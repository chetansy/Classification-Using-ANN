{
  "nbformat": 4,
  "nbformat_minor": 0,
  "metadata": {
    "colab": {
      "provenance": [],
      "collapsed_sections": [],
      "authorship_tag": "ABX9TyNaQimdlZtv10mtHQpbKmZu",
      "include_colab_link": true
    },
    "kernelspec": {
      "name": "python3",
      "display_name": "Python 3"
    },
    "language_info": {
      "name": "python"
    },
    "accelerator": "GPU"
  },
  "cells": [
    {
      "cell_type": "markdown",
      "metadata": {
        "id": "view-in-github",
        "colab_type": "text"
      },
      "source": [
        "<a href=\"https://colab.research.google.com/github/chetansy/Classification-Using-ANN/blob/main/ANN.ipynb\" target=\"_parent\"><img src=\"https://colab.research.google.com/assets/colab-badge.svg\" alt=\"Open In Colab\"/></a>"
      ]
    },
    {
      "cell_type": "code",
      "execution_count": 1,
      "metadata": {
        "id": "D_3vk8vsUf75"
      },
      "outputs": [],
      "source": [
        "# !pip install tensorflow-gpu"
      ]
    },
    {
      "cell_type": "code",
      "source": [
        "import tensorflow as tf\n",
        "print(tf.__version__)"
      ],
      "metadata": {
        "colab": {
          "base_uri": "https://localhost:8080/"
        },
        "id": "fiM1hHQ7VkmW",
        "outputId": "d32a638e-1479-430f-f3e2-d8c939836a8a"
      },
      "execution_count": 2,
      "outputs": [
        {
          "output_type": "stream",
          "name": "stdout",
          "text": [
            "2.10.0\n"
          ]
        }
      ]
    },
    {
      "cell_type": "code",
      "source": [
        "import numpy as np\n",
        "import matplotlib.pyplot as plt\n",
        "import pandas as pd"
      ],
      "metadata": {
        "id": "YA1sELwHV71v"
      },
      "execution_count": 3,
      "outputs": []
    },
    {
      "cell_type": "code",
      "source": [
        "dataset = pd.read_csv('/content/Churn_Modelling.csv')\n",
        "dataset.head()"
      ],
      "metadata": {
        "colab": {
          "base_uri": "https://localhost:8080/",
          "height": 206
        },
        "id": "MLRWDojfWJl6",
        "outputId": "27c7c467-34e9-46b5-c28a-c77b5c67f429"
      },
      "execution_count": 4,
      "outputs": [
        {
          "output_type": "execute_result",
          "data": {
            "text/plain": [
              "   RowNumber  CustomerId   Surname  CreditScore Geography  Gender  Age  \\\n",
              "0          1    15634602  Hargrave          619    France  Female   42   \n",
              "1          2    15647311      Hill          608     Spain  Female   41   \n",
              "2          3    15619304      Onio          502    France  Female   42   \n",
              "3          4    15701354      Boni          699    France  Female   39   \n",
              "4          5    15737888  Mitchell          850     Spain  Female   43   \n",
              "\n",
              "   Tenure    Balance  NumOfProducts  HasCrCard  IsActiveMember  \\\n",
              "0       2       0.00              1          1               1   \n",
              "1       1   83807.86              1          0               1   \n",
              "2       8  159660.80              3          1               0   \n",
              "3       1       0.00              2          0               0   \n",
              "4       2  125510.82              1          1               1   \n",
              "\n",
              "   EstimatedSalary  Exited  \n",
              "0        101348.88       1  \n",
              "1        112542.58       0  \n",
              "2        113931.57       1  \n",
              "3         93826.63       0  \n",
              "4         79084.10       0  "
            ],
            "text/html": [
              "\n",
              "  <div id=\"df-8ce1d8c7-7651-4217-ab37-c68a5b5b9240\">\n",
              "    <div class=\"colab-df-container\">\n",
              "      <div>\n",
              "<style scoped>\n",
              "    .dataframe tbody tr th:only-of-type {\n",
              "        vertical-align: middle;\n",
              "    }\n",
              "\n",
              "    .dataframe tbody tr th {\n",
              "        vertical-align: top;\n",
              "    }\n",
              "\n",
              "    .dataframe thead th {\n",
              "        text-align: right;\n",
              "    }\n",
              "</style>\n",
              "<table border=\"1\" class=\"dataframe\">\n",
              "  <thead>\n",
              "    <tr style=\"text-align: right;\">\n",
              "      <th></th>\n",
              "      <th>RowNumber</th>\n",
              "      <th>CustomerId</th>\n",
              "      <th>Surname</th>\n",
              "      <th>CreditScore</th>\n",
              "      <th>Geography</th>\n",
              "      <th>Gender</th>\n",
              "      <th>Age</th>\n",
              "      <th>Tenure</th>\n",
              "      <th>Balance</th>\n",
              "      <th>NumOfProducts</th>\n",
              "      <th>HasCrCard</th>\n",
              "      <th>IsActiveMember</th>\n",
              "      <th>EstimatedSalary</th>\n",
              "      <th>Exited</th>\n",
              "    </tr>\n",
              "  </thead>\n",
              "  <tbody>\n",
              "    <tr>\n",
              "      <th>0</th>\n",
              "      <td>1</td>\n",
              "      <td>15634602</td>\n",
              "      <td>Hargrave</td>\n",
              "      <td>619</td>\n",
              "      <td>France</td>\n",
              "      <td>Female</td>\n",
              "      <td>42</td>\n",
              "      <td>2</td>\n",
              "      <td>0.00</td>\n",
              "      <td>1</td>\n",
              "      <td>1</td>\n",
              "      <td>1</td>\n",
              "      <td>101348.88</td>\n",
              "      <td>1</td>\n",
              "    </tr>\n",
              "    <tr>\n",
              "      <th>1</th>\n",
              "      <td>2</td>\n",
              "      <td>15647311</td>\n",
              "      <td>Hill</td>\n",
              "      <td>608</td>\n",
              "      <td>Spain</td>\n",
              "      <td>Female</td>\n",
              "      <td>41</td>\n",
              "      <td>1</td>\n",
              "      <td>83807.86</td>\n",
              "      <td>1</td>\n",
              "      <td>0</td>\n",
              "      <td>1</td>\n",
              "      <td>112542.58</td>\n",
              "      <td>0</td>\n",
              "    </tr>\n",
              "    <tr>\n",
              "      <th>2</th>\n",
              "      <td>3</td>\n",
              "      <td>15619304</td>\n",
              "      <td>Onio</td>\n",
              "      <td>502</td>\n",
              "      <td>France</td>\n",
              "      <td>Female</td>\n",
              "      <td>42</td>\n",
              "      <td>8</td>\n",
              "      <td>159660.80</td>\n",
              "      <td>3</td>\n",
              "      <td>1</td>\n",
              "      <td>0</td>\n",
              "      <td>113931.57</td>\n",
              "      <td>1</td>\n",
              "    </tr>\n",
              "    <tr>\n",
              "      <th>3</th>\n",
              "      <td>4</td>\n",
              "      <td>15701354</td>\n",
              "      <td>Boni</td>\n",
              "      <td>699</td>\n",
              "      <td>France</td>\n",
              "      <td>Female</td>\n",
              "      <td>39</td>\n",
              "      <td>1</td>\n",
              "      <td>0.00</td>\n",
              "      <td>2</td>\n",
              "      <td>0</td>\n",
              "      <td>0</td>\n",
              "      <td>93826.63</td>\n",
              "      <td>0</td>\n",
              "    </tr>\n",
              "    <tr>\n",
              "      <th>4</th>\n",
              "      <td>5</td>\n",
              "      <td>15737888</td>\n",
              "      <td>Mitchell</td>\n",
              "      <td>850</td>\n",
              "      <td>Spain</td>\n",
              "      <td>Female</td>\n",
              "      <td>43</td>\n",
              "      <td>2</td>\n",
              "      <td>125510.82</td>\n",
              "      <td>1</td>\n",
              "      <td>1</td>\n",
              "      <td>1</td>\n",
              "      <td>79084.10</td>\n",
              "      <td>0</td>\n",
              "    </tr>\n",
              "  </tbody>\n",
              "</table>\n",
              "</div>\n",
              "      <button class=\"colab-df-convert\" onclick=\"convertToInteractive('df-8ce1d8c7-7651-4217-ab37-c68a5b5b9240')\"\n",
              "              title=\"Convert this dataframe to an interactive table.\"\n",
              "              style=\"display:none;\">\n",
              "        \n",
              "  <svg xmlns=\"http://www.w3.org/2000/svg\" height=\"24px\"viewBox=\"0 0 24 24\"\n",
              "       width=\"24px\">\n",
              "    <path d=\"M0 0h24v24H0V0z\" fill=\"none\"/>\n",
              "    <path d=\"M18.56 5.44l.94 2.06.94-2.06 2.06-.94-2.06-.94-.94-2.06-.94 2.06-2.06.94zm-11 1L8.5 8.5l.94-2.06 2.06-.94-2.06-.94L8.5 2.5l-.94 2.06-2.06.94zm10 10l.94 2.06.94-2.06 2.06-.94-2.06-.94-.94-2.06-.94 2.06-2.06.94z\"/><path d=\"M17.41 7.96l-1.37-1.37c-.4-.4-.92-.59-1.43-.59-.52 0-1.04.2-1.43.59L10.3 9.45l-7.72 7.72c-.78.78-.78 2.05 0 2.83L4 21.41c.39.39.9.59 1.41.59.51 0 1.02-.2 1.41-.59l7.78-7.78 2.81-2.81c.8-.78.8-2.07 0-2.86zM5.41 20L4 18.59l7.72-7.72 1.47 1.35L5.41 20z\"/>\n",
              "  </svg>\n",
              "      </button>\n",
              "      \n",
              "  <style>\n",
              "    .colab-df-container {\n",
              "      display:flex;\n",
              "      flex-wrap:wrap;\n",
              "      gap: 12px;\n",
              "    }\n",
              "\n",
              "    .colab-df-convert {\n",
              "      background-color: #E8F0FE;\n",
              "      border: none;\n",
              "      border-radius: 50%;\n",
              "      cursor: pointer;\n",
              "      display: none;\n",
              "      fill: #1967D2;\n",
              "      height: 32px;\n",
              "      padding: 0 0 0 0;\n",
              "      width: 32px;\n",
              "    }\n",
              "\n",
              "    .colab-df-convert:hover {\n",
              "      background-color: #E2EBFA;\n",
              "      box-shadow: 0px 1px 2px rgba(60, 64, 67, 0.3), 0px 1px 3px 1px rgba(60, 64, 67, 0.15);\n",
              "      fill: #174EA6;\n",
              "    }\n",
              "\n",
              "    [theme=dark] .colab-df-convert {\n",
              "      background-color: #3B4455;\n",
              "      fill: #D2E3FC;\n",
              "    }\n",
              "\n",
              "    [theme=dark] .colab-df-convert:hover {\n",
              "      background-color: #434B5C;\n",
              "      box-shadow: 0px 1px 3px 1px rgba(0, 0, 0, 0.15);\n",
              "      filter: drop-shadow(0px 1px 2px rgba(0, 0, 0, 0.3));\n",
              "      fill: #FFFFFF;\n",
              "    }\n",
              "  </style>\n",
              "\n",
              "      <script>\n",
              "        const buttonEl =\n",
              "          document.querySelector('#df-8ce1d8c7-7651-4217-ab37-c68a5b5b9240 button.colab-df-convert');\n",
              "        buttonEl.style.display =\n",
              "          google.colab.kernel.accessAllowed ? 'block' : 'none';\n",
              "\n",
              "        async function convertToInteractive(key) {\n",
              "          const element = document.querySelector('#df-8ce1d8c7-7651-4217-ab37-c68a5b5b9240');\n",
              "          const dataTable =\n",
              "            await google.colab.kernel.invokeFunction('convertToInteractive',\n",
              "                                                     [key], {});\n",
              "          if (!dataTable) return;\n",
              "\n",
              "          const docLinkHtml = 'Like what you see? Visit the ' +\n",
              "            '<a target=\"_blank\" href=https://colab.research.google.com/notebooks/data_table.ipynb>data table notebook</a>'\n",
              "            + ' to learn more about interactive tables.';\n",
              "          element.innerHTML = '';\n",
              "          dataTable['output_type'] = 'display_data';\n",
              "          await google.colab.output.renderOutput(dataTable, element);\n",
              "          const docLink = document.createElement('div');\n",
              "          docLink.innerHTML = docLinkHtml;\n",
              "          element.appendChild(docLink);\n",
              "        }\n",
              "      </script>\n",
              "    </div>\n",
              "  </div>\n",
              "  "
            ]
          },
          "metadata": {},
          "execution_count": 4
        }
      ]
    },
    {
      "cell_type": "code",
      "source": [
        "## spliting dependent and independnt features\n",
        "\n",
        "x = dataset.iloc[:,3:13]\n",
        "y = dataset.iloc[:,13]"
      ],
      "metadata": {
        "id": "gmzmC0szWVY-"
      },
      "execution_count": 5,
      "outputs": []
    },
    {
      "cell_type": "code",
      "source": [
        "x.head()"
      ],
      "metadata": {
        "colab": {
          "base_uri": "https://localhost:8080/",
          "height": 206
        },
        "id": "xUSRAfuxvqQp",
        "outputId": "6d465673-3f6f-4854-a5c7-449924bc6ae4"
      },
      "execution_count": 6,
      "outputs": [
        {
          "output_type": "execute_result",
          "data": {
            "text/plain": [
              "   CreditScore Geography  Gender  Age  Tenure    Balance  NumOfProducts  \\\n",
              "0          619    France  Female   42       2       0.00              1   \n",
              "1          608     Spain  Female   41       1   83807.86              1   \n",
              "2          502    France  Female   42       8  159660.80              3   \n",
              "3          699    France  Female   39       1       0.00              2   \n",
              "4          850     Spain  Female   43       2  125510.82              1   \n",
              "\n",
              "   HasCrCard  IsActiveMember  EstimatedSalary  \n",
              "0          1               1        101348.88  \n",
              "1          0               1        112542.58  \n",
              "2          1               0        113931.57  \n",
              "3          0               0         93826.63  \n",
              "4          1               1         79084.10  "
            ],
            "text/html": [
              "\n",
              "  <div id=\"df-05bb6b22-c081-46f6-af6e-d36bb8f54fcb\">\n",
              "    <div class=\"colab-df-container\">\n",
              "      <div>\n",
              "<style scoped>\n",
              "    .dataframe tbody tr th:only-of-type {\n",
              "        vertical-align: middle;\n",
              "    }\n",
              "\n",
              "    .dataframe tbody tr th {\n",
              "        vertical-align: top;\n",
              "    }\n",
              "\n",
              "    .dataframe thead th {\n",
              "        text-align: right;\n",
              "    }\n",
              "</style>\n",
              "<table border=\"1\" class=\"dataframe\">\n",
              "  <thead>\n",
              "    <tr style=\"text-align: right;\">\n",
              "      <th></th>\n",
              "      <th>CreditScore</th>\n",
              "      <th>Geography</th>\n",
              "      <th>Gender</th>\n",
              "      <th>Age</th>\n",
              "      <th>Tenure</th>\n",
              "      <th>Balance</th>\n",
              "      <th>NumOfProducts</th>\n",
              "      <th>HasCrCard</th>\n",
              "      <th>IsActiveMember</th>\n",
              "      <th>EstimatedSalary</th>\n",
              "    </tr>\n",
              "  </thead>\n",
              "  <tbody>\n",
              "    <tr>\n",
              "      <th>0</th>\n",
              "      <td>619</td>\n",
              "      <td>France</td>\n",
              "      <td>Female</td>\n",
              "      <td>42</td>\n",
              "      <td>2</td>\n",
              "      <td>0.00</td>\n",
              "      <td>1</td>\n",
              "      <td>1</td>\n",
              "      <td>1</td>\n",
              "      <td>101348.88</td>\n",
              "    </tr>\n",
              "    <tr>\n",
              "      <th>1</th>\n",
              "      <td>608</td>\n",
              "      <td>Spain</td>\n",
              "      <td>Female</td>\n",
              "      <td>41</td>\n",
              "      <td>1</td>\n",
              "      <td>83807.86</td>\n",
              "      <td>1</td>\n",
              "      <td>0</td>\n",
              "      <td>1</td>\n",
              "      <td>112542.58</td>\n",
              "    </tr>\n",
              "    <tr>\n",
              "      <th>2</th>\n",
              "      <td>502</td>\n",
              "      <td>France</td>\n",
              "      <td>Female</td>\n",
              "      <td>42</td>\n",
              "      <td>8</td>\n",
              "      <td>159660.80</td>\n",
              "      <td>3</td>\n",
              "      <td>1</td>\n",
              "      <td>0</td>\n",
              "      <td>113931.57</td>\n",
              "    </tr>\n",
              "    <tr>\n",
              "      <th>3</th>\n",
              "      <td>699</td>\n",
              "      <td>France</td>\n",
              "      <td>Female</td>\n",
              "      <td>39</td>\n",
              "      <td>1</td>\n",
              "      <td>0.00</td>\n",
              "      <td>2</td>\n",
              "      <td>0</td>\n",
              "      <td>0</td>\n",
              "      <td>93826.63</td>\n",
              "    </tr>\n",
              "    <tr>\n",
              "      <th>4</th>\n",
              "      <td>850</td>\n",
              "      <td>Spain</td>\n",
              "      <td>Female</td>\n",
              "      <td>43</td>\n",
              "      <td>2</td>\n",
              "      <td>125510.82</td>\n",
              "      <td>1</td>\n",
              "      <td>1</td>\n",
              "      <td>1</td>\n",
              "      <td>79084.10</td>\n",
              "    </tr>\n",
              "  </tbody>\n",
              "</table>\n",
              "</div>\n",
              "      <button class=\"colab-df-convert\" onclick=\"convertToInteractive('df-05bb6b22-c081-46f6-af6e-d36bb8f54fcb')\"\n",
              "              title=\"Convert this dataframe to an interactive table.\"\n",
              "              style=\"display:none;\">\n",
              "        \n",
              "  <svg xmlns=\"http://www.w3.org/2000/svg\" height=\"24px\"viewBox=\"0 0 24 24\"\n",
              "       width=\"24px\">\n",
              "    <path d=\"M0 0h24v24H0V0z\" fill=\"none\"/>\n",
              "    <path d=\"M18.56 5.44l.94 2.06.94-2.06 2.06-.94-2.06-.94-.94-2.06-.94 2.06-2.06.94zm-11 1L8.5 8.5l.94-2.06 2.06-.94-2.06-.94L8.5 2.5l-.94 2.06-2.06.94zm10 10l.94 2.06.94-2.06 2.06-.94-2.06-.94-.94-2.06-.94 2.06-2.06.94z\"/><path d=\"M17.41 7.96l-1.37-1.37c-.4-.4-.92-.59-1.43-.59-.52 0-1.04.2-1.43.59L10.3 9.45l-7.72 7.72c-.78.78-.78 2.05 0 2.83L4 21.41c.39.39.9.59 1.41.59.51 0 1.02-.2 1.41-.59l7.78-7.78 2.81-2.81c.8-.78.8-2.07 0-2.86zM5.41 20L4 18.59l7.72-7.72 1.47 1.35L5.41 20z\"/>\n",
              "  </svg>\n",
              "      </button>\n",
              "      \n",
              "  <style>\n",
              "    .colab-df-container {\n",
              "      display:flex;\n",
              "      flex-wrap:wrap;\n",
              "      gap: 12px;\n",
              "    }\n",
              "\n",
              "    .colab-df-convert {\n",
              "      background-color: #E8F0FE;\n",
              "      border: none;\n",
              "      border-radius: 50%;\n",
              "      cursor: pointer;\n",
              "      display: none;\n",
              "      fill: #1967D2;\n",
              "      height: 32px;\n",
              "      padding: 0 0 0 0;\n",
              "      width: 32px;\n",
              "    }\n",
              "\n",
              "    .colab-df-convert:hover {\n",
              "      background-color: #E2EBFA;\n",
              "      box-shadow: 0px 1px 2px rgba(60, 64, 67, 0.3), 0px 1px 3px 1px rgba(60, 64, 67, 0.15);\n",
              "      fill: #174EA6;\n",
              "    }\n",
              "\n",
              "    [theme=dark] .colab-df-convert {\n",
              "      background-color: #3B4455;\n",
              "      fill: #D2E3FC;\n",
              "    }\n",
              "\n",
              "    [theme=dark] .colab-df-convert:hover {\n",
              "      background-color: #434B5C;\n",
              "      box-shadow: 0px 1px 3px 1px rgba(0, 0, 0, 0.15);\n",
              "      filter: drop-shadow(0px 1px 2px rgba(0, 0, 0, 0.3));\n",
              "      fill: #FFFFFF;\n",
              "    }\n",
              "  </style>\n",
              "\n",
              "      <script>\n",
              "        const buttonEl =\n",
              "          document.querySelector('#df-05bb6b22-c081-46f6-af6e-d36bb8f54fcb button.colab-df-convert');\n",
              "        buttonEl.style.display =\n",
              "          google.colab.kernel.accessAllowed ? 'block' : 'none';\n",
              "\n",
              "        async function convertToInteractive(key) {\n",
              "          const element = document.querySelector('#df-05bb6b22-c081-46f6-af6e-d36bb8f54fcb');\n",
              "          const dataTable =\n",
              "            await google.colab.kernel.invokeFunction('convertToInteractive',\n",
              "                                                     [key], {});\n",
              "          if (!dataTable) return;\n",
              "\n",
              "          const docLinkHtml = 'Like what you see? Visit the ' +\n",
              "            '<a target=\"_blank\" href=https://colab.research.google.com/notebooks/data_table.ipynb>data table notebook</a>'\n",
              "            + ' to learn more about interactive tables.';\n",
              "          element.innerHTML = '';\n",
              "          dataTable['output_type'] = 'display_data';\n",
              "          await google.colab.output.renderOutput(dataTable, element);\n",
              "          const docLink = document.createElement('div');\n",
              "          docLink.innerHTML = docLinkHtml;\n",
              "          element.appendChild(docLink);\n",
              "        }\n",
              "      </script>\n",
              "    </div>\n",
              "  </div>\n",
              "  "
            ]
          },
          "metadata": {},
          "execution_count": 6
        }
      ]
    },
    {
      "cell_type": "code",
      "source": [
        "y.head()"
      ],
      "metadata": {
        "colab": {
          "base_uri": "https://localhost:8080/"
        },
        "id": "DR0UI8ERvydh",
        "outputId": "7cc05b6b-9b3a-45d7-8aa6-dc8e03fdd183"
      },
      "execution_count": 7,
      "outputs": [
        {
          "output_type": "execute_result",
          "data": {
            "text/plain": [
              "0    1\n",
              "1    0\n",
              "2    1\n",
              "3    0\n",
              "4    0\n",
              "Name: Exited, dtype: int64"
            ]
          },
          "metadata": {},
          "execution_count": 7
        }
      ]
    },
    {
      "cell_type": "code",
      "source": [
        "## feature engineering\n",
        "\n",
        "geography = pd.get_dummies(x['Geography'],drop_first = True)\n",
        "gender = pd.get_dummies(x['Gender'],drop_first = True)"
      ],
      "metadata": {
        "id": "fo5sKr9-v1M6"
      },
      "execution_count": 8,
      "outputs": []
    },
    {
      "cell_type": "code",
      "source": [
        "## Dropping two columns\n",
        "x = x.drop(['Gender','Geography'],axis = 1)"
      ],
      "metadata": {
        "id": "KbWqtuXvxI6Y"
      },
      "execution_count": 9,
      "outputs": []
    },
    {
      "cell_type": "code",
      "source": [
        "## concate two columns dat v hav created\n",
        "x = pd.concat([x, geography,gender],axis = 1)"
      ],
      "metadata": {
        "id": "anCfftzXzei1"
      },
      "execution_count": 10,
      "outputs": []
    },
    {
      "cell_type": "code",
      "source": [
        "x.head()"
      ],
      "metadata": {
        "colab": {
          "base_uri": "https://localhost:8080/",
          "height": 206
        },
        "id": "78lPV3b3zuju",
        "outputId": "d8a68992-1f47-4c4e-e393-61ea68f7ab6d"
      },
      "execution_count": 11,
      "outputs": [
        {
          "output_type": "execute_result",
          "data": {
            "text/plain": [
              "   CreditScore  Age  Tenure    Balance  NumOfProducts  HasCrCard  \\\n",
              "0          619   42       2       0.00              1          1   \n",
              "1          608   41       1   83807.86              1          0   \n",
              "2          502   42       8  159660.80              3          1   \n",
              "3          699   39       1       0.00              2          0   \n",
              "4          850   43       2  125510.82              1          1   \n",
              "\n",
              "   IsActiveMember  EstimatedSalary  Germany  Spain  Male  \n",
              "0               1        101348.88        0      0     0  \n",
              "1               1        112542.58        0      1     0  \n",
              "2               0        113931.57        0      0     0  \n",
              "3               0         93826.63        0      0     0  \n",
              "4               1         79084.10        0      1     0  "
            ],
            "text/html": [
              "\n",
              "  <div id=\"df-9e2fde6c-1852-4d16-9ae2-0f3346d136f4\">\n",
              "    <div class=\"colab-df-container\">\n",
              "      <div>\n",
              "<style scoped>\n",
              "    .dataframe tbody tr th:only-of-type {\n",
              "        vertical-align: middle;\n",
              "    }\n",
              "\n",
              "    .dataframe tbody tr th {\n",
              "        vertical-align: top;\n",
              "    }\n",
              "\n",
              "    .dataframe thead th {\n",
              "        text-align: right;\n",
              "    }\n",
              "</style>\n",
              "<table border=\"1\" class=\"dataframe\">\n",
              "  <thead>\n",
              "    <tr style=\"text-align: right;\">\n",
              "      <th></th>\n",
              "      <th>CreditScore</th>\n",
              "      <th>Age</th>\n",
              "      <th>Tenure</th>\n",
              "      <th>Balance</th>\n",
              "      <th>NumOfProducts</th>\n",
              "      <th>HasCrCard</th>\n",
              "      <th>IsActiveMember</th>\n",
              "      <th>EstimatedSalary</th>\n",
              "      <th>Germany</th>\n",
              "      <th>Spain</th>\n",
              "      <th>Male</th>\n",
              "    </tr>\n",
              "  </thead>\n",
              "  <tbody>\n",
              "    <tr>\n",
              "      <th>0</th>\n",
              "      <td>619</td>\n",
              "      <td>42</td>\n",
              "      <td>2</td>\n",
              "      <td>0.00</td>\n",
              "      <td>1</td>\n",
              "      <td>1</td>\n",
              "      <td>1</td>\n",
              "      <td>101348.88</td>\n",
              "      <td>0</td>\n",
              "      <td>0</td>\n",
              "      <td>0</td>\n",
              "    </tr>\n",
              "    <tr>\n",
              "      <th>1</th>\n",
              "      <td>608</td>\n",
              "      <td>41</td>\n",
              "      <td>1</td>\n",
              "      <td>83807.86</td>\n",
              "      <td>1</td>\n",
              "      <td>0</td>\n",
              "      <td>1</td>\n",
              "      <td>112542.58</td>\n",
              "      <td>0</td>\n",
              "      <td>1</td>\n",
              "      <td>0</td>\n",
              "    </tr>\n",
              "    <tr>\n",
              "      <th>2</th>\n",
              "      <td>502</td>\n",
              "      <td>42</td>\n",
              "      <td>8</td>\n",
              "      <td>159660.80</td>\n",
              "      <td>3</td>\n",
              "      <td>1</td>\n",
              "      <td>0</td>\n",
              "      <td>113931.57</td>\n",
              "      <td>0</td>\n",
              "      <td>0</td>\n",
              "      <td>0</td>\n",
              "    </tr>\n",
              "    <tr>\n",
              "      <th>3</th>\n",
              "      <td>699</td>\n",
              "      <td>39</td>\n",
              "      <td>1</td>\n",
              "      <td>0.00</td>\n",
              "      <td>2</td>\n",
              "      <td>0</td>\n",
              "      <td>0</td>\n",
              "      <td>93826.63</td>\n",
              "      <td>0</td>\n",
              "      <td>0</td>\n",
              "      <td>0</td>\n",
              "    </tr>\n",
              "    <tr>\n",
              "      <th>4</th>\n",
              "      <td>850</td>\n",
              "      <td>43</td>\n",
              "      <td>2</td>\n",
              "      <td>125510.82</td>\n",
              "      <td>1</td>\n",
              "      <td>1</td>\n",
              "      <td>1</td>\n",
              "      <td>79084.10</td>\n",
              "      <td>0</td>\n",
              "      <td>1</td>\n",
              "      <td>0</td>\n",
              "    </tr>\n",
              "  </tbody>\n",
              "</table>\n",
              "</div>\n",
              "      <button class=\"colab-df-convert\" onclick=\"convertToInteractive('df-9e2fde6c-1852-4d16-9ae2-0f3346d136f4')\"\n",
              "              title=\"Convert this dataframe to an interactive table.\"\n",
              "              style=\"display:none;\">\n",
              "        \n",
              "  <svg xmlns=\"http://www.w3.org/2000/svg\" height=\"24px\"viewBox=\"0 0 24 24\"\n",
              "       width=\"24px\">\n",
              "    <path d=\"M0 0h24v24H0V0z\" fill=\"none\"/>\n",
              "    <path d=\"M18.56 5.44l.94 2.06.94-2.06 2.06-.94-2.06-.94-.94-2.06-.94 2.06-2.06.94zm-11 1L8.5 8.5l.94-2.06 2.06-.94-2.06-.94L8.5 2.5l-.94 2.06-2.06.94zm10 10l.94 2.06.94-2.06 2.06-.94-2.06-.94-.94-2.06-.94 2.06-2.06.94z\"/><path d=\"M17.41 7.96l-1.37-1.37c-.4-.4-.92-.59-1.43-.59-.52 0-1.04.2-1.43.59L10.3 9.45l-7.72 7.72c-.78.78-.78 2.05 0 2.83L4 21.41c.39.39.9.59 1.41.59.51 0 1.02-.2 1.41-.59l7.78-7.78 2.81-2.81c.8-.78.8-2.07 0-2.86zM5.41 20L4 18.59l7.72-7.72 1.47 1.35L5.41 20z\"/>\n",
              "  </svg>\n",
              "      </button>\n",
              "      \n",
              "  <style>\n",
              "    .colab-df-container {\n",
              "      display:flex;\n",
              "      flex-wrap:wrap;\n",
              "      gap: 12px;\n",
              "    }\n",
              "\n",
              "    .colab-df-convert {\n",
              "      background-color: #E8F0FE;\n",
              "      border: none;\n",
              "      border-radius: 50%;\n",
              "      cursor: pointer;\n",
              "      display: none;\n",
              "      fill: #1967D2;\n",
              "      height: 32px;\n",
              "      padding: 0 0 0 0;\n",
              "      width: 32px;\n",
              "    }\n",
              "\n",
              "    .colab-df-convert:hover {\n",
              "      background-color: #E2EBFA;\n",
              "      box-shadow: 0px 1px 2px rgba(60, 64, 67, 0.3), 0px 1px 3px 1px rgba(60, 64, 67, 0.15);\n",
              "      fill: #174EA6;\n",
              "    }\n",
              "\n",
              "    [theme=dark] .colab-df-convert {\n",
              "      background-color: #3B4455;\n",
              "      fill: #D2E3FC;\n",
              "    }\n",
              "\n",
              "    [theme=dark] .colab-df-convert:hover {\n",
              "      background-color: #434B5C;\n",
              "      box-shadow: 0px 1px 3px 1px rgba(0, 0, 0, 0.15);\n",
              "      filter: drop-shadow(0px 1px 2px rgba(0, 0, 0, 0.3));\n",
              "      fill: #FFFFFF;\n",
              "    }\n",
              "  </style>\n",
              "\n",
              "      <script>\n",
              "        const buttonEl =\n",
              "          document.querySelector('#df-9e2fde6c-1852-4d16-9ae2-0f3346d136f4 button.colab-df-convert');\n",
              "        buttonEl.style.display =\n",
              "          google.colab.kernel.accessAllowed ? 'block' : 'none';\n",
              "\n",
              "        async function convertToInteractive(key) {\n",
              "          const element = document.querySelector('#df-9e2fde6c-1852-4d16-9ae2-0f3346d136f4');\n",
              "          const dataTable =\n",
              "            await google.colab.kernel.invokeFunction('convertToInteractive',\n",
              "                                                     [key], {});\n",
              "          if (!dataTable) return;\n",
              "\n",
              "          const docLinkHtml = 'Like what you see? Visit the ' +\n",
              "            '<a target=\"_blank\" href=https://colab.research.google.com/notebooks/data_table.ipynb>data table notebook</a>'\n",
              "            + ' to learn more about interactive tables.';\n",
              "          element.innerHTML = '';\n",
              "          dataTable['output_type'] = 'display_data';\n",
              "          await google.colab.output.renderOutput(dataTable, element);\n",
              "          const docLink = document.createElement('div');\n",
              "          docLink.innerHTML = docLinkHtml;\n",
              "          element.appendChild(docLink);\n",
              "        }\n",
              "      </script>\n",
              "    </div>\n",
              "  </div>\n",
              "  "
            ]
          },
          "metadata": {},
          "execution_count": 11
        }
      ]
    },
    {
      "cell_type": "code",
      "source": [
        "## splitting te dataset into train & test \n",
        "# !pip install sklearn\n",
        "from sklearn.model_selection import train_test_split"
      ],
      "metadata": {
        "id": "BjCkt6G_z6WX"
      },
      "execution_count": 12,
      "outputs": []
    },
    {
      "cell_type": "code",
      "source": [
        "x_train, x_test, y_train,y_test = train_test_split(x, y , test_size = 0.2,random_state=0)"
      ],
      "metadata": {
        "id": "xoHEVxfd6lgg"
      },
      "execution_count": 13,
      "outputs": []
    },
    {
      "cell_type": "code",
      "source": [
        "## Scaling feature\n",
        "\n",
        "from sklearn.preprocessing import StandardScaler\n",
        "\n",
        "sc = StandardScaler()\n",
        "\n",
        "x_train = sc.fit_transform(x_train)\n",
        "x_test = sc.fit_transform(x_test)"
      ],
      "metadata": {
        "id": "hKX3XMAw7_BN"
      },
      "execution_count": 14,
      "outputs": []
    },
    {
      "cell_type": "code",
      "source": [
        "x_train"
      ],
      "metadata": {
        "colab": {
          "base_uri": "https://localhost:8080/"
        },
        "id": "N3V6sQH_FlXa",
        "outputId": "40f00bbb-0cca-4956-a40a-dc6bfe94d2f0"
      },
      "execution_count": 15,
      "outputs": [
        {
          "output_type": "execute_result",
          "data": {
            "text/plain": [
              "array([[ 0.16958176, -0.46460796,  0.00666099, ..., -0.5698444 ,\n",
              "         1.74309049, -1.09168714],\n",
              "       [-2.30455945,  0.30102557, -1.37744033, ...,  1.75486502,\n",
              "        -0.57369368,  0.91601335],\n",
              "       [-1.19119591, -0.94312892, -1.031415  , ..., -0.5698444 ,\n",
              "        -0.57369368, -1.09168714],\n",
              "       ...,\n",
              "       [ 0.9015152 , -0.36890377,  0.00666099, ..., -0.5698444 ,\n",
              "        -0.57369368,  0.91601335],\n",
              "       [-0.62420521, -0.08179119,  1.39076231, ..., -0.5698444 ,\n",
              "         1.74309049, -1.09168714],\n",
              "       [-0.28401079,  0.87525072, -1.37744033, ...,  1.75486502,\n",
              "        -0.57369368, -1.09168714]])"
            ]
          },
          "metadata": {},
          "execution_count": 15
        }
      ]
    },
    {
      "cell_type": "code",
      "source": [
        "x_train.shape"
      ],
      "metadata": {
        "colab": {
          "base_uri": "https://localhost:8080/"
        },
        "id": "pwlpI6BSGqpf",
        "outputId": "98a341fe-b409-4ec9-b381-d0400696d3be"
      },
      "execution_count": 16,
      "outputs": [
        {
          "output_type": "execute_result",
          "data": {
            "text/plain": [
              "(8000, 11)"
            ]
          },
          "metadata": {},
          "execution_count": 16
        }
      ]
    },
    {
      "cell_type": "code",
      "source": [
        "## Lets create Part 2 for ANN\n",
        "from tensorflow.keras.models import Sequential\n",
        "from tensorflow.keras.layers import Dense\n",
        "from tensorflow.keras.layers import ReLU, PReLU, LeakyReLU,ELU\n",
        "from tensorflow.keras.layers import Dropout"
      ],
      "metadata": {
        "id": "X4jRJRw4G26H"
      },
      "execution_count": 17,
      "outputs": []
    },
    {
      "cell_type": "code",
      "source": [
        "## lets intialize ANN\n",
        "classifier = Sequential()"
      ],
      "metadata": {
        "id": "IpR8iPyFH3KT"
      },
      "execution_count": 18,
      "outputs": []
    },
    {
      "cell_type": "code",
      "source": [
        "## Adding Input layers\n",
        "classifier.add(Dense(units = 11 , activation = 'relu'))\n",
        "# classifier.add(Dropout(0.3))\n",
        "\n",
        "## Adding Hidden layers\n",
        "classifier.add(Dense(units = 7, activation = 'relu'))\n",
        "# classifier.add(Dropout(0.3))"
      ],
      "metadata": {
        "id": "nA7g7jDgNsFU"
      },
      "execution_count": 19,
      "outputs": []
    },
    {
      "cell_type": "code",
      "source": [
        "## Adding second hidden layer\n",
        "classifier.add(Dense(units = 6, activation = 'relu'))\n",
        "# classifier.add(Dropout(0.3))"
      ],
      "metadata": {
        "id": "133g2SPQPX2R"
      },
      "execution_count": 20,
      "outputs": []
    },
    {
      "cell_type": "code",
      "source": [
        "## adding output layer\n",
        "classifier.add(Dense(units = 1, activation = 'sigmoid'))\n",
        "# classifier.add(Dropout(0.3))"
      ],
      "metadata": {
        "id": "bAF8R9Q3TEeW"
      },
      "execution_count": 21,
      "outputs": []
    },
    {
      "cell_type": "code",
      "source": [
        "## lets train our NN model\n",
        "#classifier.compile(optimizer=\"adam\", loss = \"binary_crossentropy\", metrics = ['accuracy']) ## 'adam' takes learning rate bydefault as 0.1\n",
        "                                                                                           ## So no need to mention learning rate"
      ],
      "metadata": {
        "id": "Lbc2vjsDTfKR"
      },
      "execution_count": 22,
      "outputs": []
    },
    {
      "cell_type": "code",
      "source": [
        "## if u want to customize learning rate in Adam \n",
        "\n",
        "import tensorflow\n",
        "opt = tensorflow.keras.optimizers.Adam(learning_rate = 0.01)\n",
        "classifier.compile(optimizer=opt, loss = \"binary_crossentropy\", metrics = ['accuracy']) ## 'adam' takes learning rate bydefault as 0.1\n"
      ],
      "metadata": {
        "id": "Wv-UhqbsUvaN"
      },
      "execution_count": 23,
      "outputs": []
    },
    {
      "cell_type": "code",
      "source": [
        "## Early Stopping\n",
        "\n",
        "import tensorflow as tf\n",
        "\n",
        "early_stopping = tf.keras.callbacks.EarlyStopping(monitor = \"val_loss\", min_delta = 0.0001, patience = 20, verbose = 1 , mode = \"auto\", baseline = None, restore_best_weights=False)"
      ],
      "metadata": {
        "id": "06d6AOdzhBBO"
      },
      "execution_count": 24,
      "outputs": []
    },
    {
      "cell_type": "code",
      "source": [
        "\n",
        "model_history = classifier.fit(x_train, y_train, validation_split=0.33, batch_size=10, epochs = 1000, callbacks = early_stopping)"
      ],
      "metadata": {
        "colab": {
          "base_uri": "https://localhost:8080/"
        },
        "id": "bnuWIyFFbubp",
        "outputId": "dc640fca-e040-4b66-da6a-1189cc1c1f1a"
      },
      "execution_count": 25,
      "outputs": [
        {
          "output_type": "stream",
          "name": "stdout",
          "text": [
            "Epoch 1/1000\n",
            "536/536 [==============================] - 3s 4ms/step - loss: 0.4123 - accuracy: 0.8235 - val_loss: 0.3835 - val_accuracy: 0.8368\n",
            "Epoch 2/1000\n",
            "536/536 [==============================] - 3s 6ms/step - loss: 0.3584 - accuracy: 0.8492 - val_loss: 0.3734 - val_accuracy: 0.8432\n",
            "Epoch 3/1000\n",
            "536/536 [==============================] - 4s 7ms/step - loss: 0.3502 - accuracy: 0.8559 - val_loss: 0.3675 - val_accuracy: 0.8466\n",
            "Epoch 4/1000\n",
            "536/536 [==============================] - 4s 8ms/step - loss: 0.3478 - accuracy: 0.8563 - val_loss: 0.3664 - val_accuracy: 0.8410\n",
            "Epoch 5/1000\n",
            "536/536 [==============================] - 4s 7ms/step - loss: 0.3411 - accuracy: 0.8559 - val_loss: 0.3652 - val_accuracy: 0.8459\n",
            "Epoch 6/1000\n",
            "536/536 [==============================] - 4s 7ms/step - loss: 0.3402 - accuracy: 0.8565 - val_loss: 0.3661 - val_accuracy: 0.8466\n",
            "Epoch 7/1000\n",
            "536/536 [==============================] - 2s 4ms/step - loss: 0.3401 - accuracy: 0.8587 - val_loss: 0.3596 - val_accuracy: 0.8504\n",
            "Epoch 8/1000\n",
            "536/536 [==============================] - 2s 4ms/step - loss: 0.3389 - accuracy: 0.8623 - val_loss: 0.3629 - val_accuracy: 0.8448\n",
            "Epoch 9/1000\n",
            "536/536 [==============================] - 2s 4ms/step - loss: 0.3370 - accuracy: 0.8615 - val_loss: 0.3790 - val_accuracy: 0.8451\n",
            "Epoch 10/1000\n",
            "536/536 [==============================] - 2s 4ms/step - loss: 0.3348 - accuracy: 0.8658 - val_loss: 0.3607 - val_accuracy: 0.8516\n",
            "Epoch 11/1000\n",
            "536/536 [==============================] - 2s 4ms/step - loss: 0.3350 - accuracy: 0.8608 - val_loss: 0.3581 - val_accuracy: 0.8451\n",
            "Epoch 12/1000\n",
            "536/536 [==============================] - 2s 4ms/step - loss: 0.3344 - accuracy: 0.8602 - val_loss: 0.3603 - val_accuracy: 0.8478\n",
            "Epoch 13/1000\n",
            "536/536 [==============================] - 2s 4ms/step - loss: 0.3375 - accuracy: 0.8589 - val_loss: 0.3590 - val_accuracy: 0.8493\n",
            "Epoch 14/1000\n",
            "536/536 [==============================] - 2s 4ms/step - loss: 0.3332 - accuracy: 0.8627 - val_loss: 0.3545 - val_accuracy: 0.8542\n",
            "Epoch 15/1000\n",
            "536/536 [==============================] - 2s 4ms/step - loss: 0.3310 - accuracy: 0.8623 - val_loss: 0.3701 - val_accuracy: 0.8455\n",
            "Epoch 16/1000\n",
            "536/536 [==============================] - 2s 4ms/step - loss: 0.3350 - accuracy: 0.8625 - val_loss: 0.3581 - val_accuracy: 0.8482\n",
            "Epoch 17/1000\n",
            "536/536 [==============================] - 2s 4ms/step - loss: 0.3328 - accuracy: 0.8645 - val_loss: 0.3604 - val_accuracy: 0.8504\n",
            "Epoch 18/1000\n",
            "536/536 [==============================] - 2s 4ms/step - loss: 0.3318 - accuracy: 0.8619 - val_loss: 0.3648 - val_accuracy: 0.8512\n",
            "Epoch 19/1000\n",
            "536/536 [==============================] - 2s 4ms/step - loss: 0.3301 - accuracy: 0.8614 - val_loss: 0.3672 - val_accuracy: 0.8504\n",
            "Epoch 20/1000\n",
            "536/536 [==============================] - 2s 4ms/step - loss: 0.3311 - accuracy: 0.8643 - val_loss: 0.3563 - val_accuracy: 0.8516\n",
            "Epoch 21/1000\n",
            "536/536 [==============================] - 2s 4ms/step - loss: 0.3295 - accuracy: 0.8630 - val_loss: 0.3562 - val_accuracy: 0.8493\n",
            "Epoch 22/1000\n",
            "536/536 [==============================] - 2s 4ms/step - loss: 0.3302 - accuracy: 0.8662 - val_loss: 0.3563 - val_accuracy: 0.8546\n",
            "Epoch 23/1000\n",
            "536/536 [==============================] - 2s 4ms/step - loss: 0.3320 - accuracy: 0.8615 - val_loss: 0.3599 - val_accuracy: 0.8535\n",
            "Epoch 24/1000\n",
            "536/536 [==============================] - 2s 4ms/step - loss: 0.3285 - accuracy: 0.8623 - val_loss: 0.3582 - val_accuracy: 0.8516\n",
            "Epoch 25/1000\n",
            "536/536 [==============================] - 2s 4ms/step - loss: 0.3263 - accuracy: 0.8612 - val_loss: 0.3875 - val_accuracy: 0.8425\n",
            "Epoch 26/1000\n",
            "536/536 [==============================] - 2s 4ms/step - loss: 0.3262 - accuracy: 0.8647 - val_loss: 0.3613 - val_accuracy: 0.8474\n",
            "Epoch 27/1000\n",
            "536/536 [==============================] - 2s 4ms/step - loss: 0.3244 - accuracy: 0.8640 - val_loss: 0.3661 - val_accuracy: 0.8508\n",
            "Epoch 28/1000\n",
            "536/536 [==============================] - 2s 4ms/step - loss: 0.3262 - accuracy: 0.8660 - val_loss: 0.3630 - val_accuracy: 0.8478\n",
            "Epoch 29/1000\n",
            "536/536 [==============================] - 2s 4ms/step - loss: 0.3270 - accuracy: 0.8662 - val_loss: 0.3584 - val_accuracy: 0.8504\n",
            "Epoch 30/1000\n",
            "536/536 [==============================] - 2s 4ms/step - loss: 0.3268 - accuracy: 0.8655 - val_loss: 0.3551 - val_accuracy: 0.8516\n",
            "Epoch 31/1000\n",
            "536/536 [==============================] - 2s 4ms/step - loss: 0.3235 - accuracy: 0.8630 - val_loss: 0.3617 - val_accuracy: 0.8451\n",
            "Epoch 32/1000\n",
            "536/536 [==============================] - 2s 4ms/step - loss: 0.3252 - accuracy: 0.8640 - val_loss: 0.3617 - val_accuracy: 0.8512\n",
            "Epoch 33/1000\n",
            "536/536 [==============================] - 2s 4ms/step - loss: 0.3241 - accuracy: 0.8673 - val_loss: 0.3550 - val_accuracy: 0.8550\n",
            "Epoch 34/1000\n",
            "536/536 [==============================] - 2s 4ms/step - loss: 0.3235 - accuracy: 0.8666 - val_loss: 0.3678 - val_accuracy: 0.8451\n",
            "Epoch 34: early stopping\n"
          ]
        }
      ]
    },
    {
      "cell_type": "code",
      "source": [
        "model_history.history.keys()"
      ],
      "metadata": {
        "colab": {
          "base_uri": "https://localhost:8080/"
        },
        "id": "UX4ObFrfh6mn",
        "outputId": "fb3cf91c-423a-468d-a1aa-c82136345b69"
      },
      "execution_count": 26,
      "outputs": [
        {
          "output_type": "execute_result",
          "data": {
            "text/plain": [
              "dict_keys(['loss', 'accuracy', 'val_loss', 'val_accuracy'])"
            ]
          },
          "metadata": {},
          "execution_count": 26
        }
      ]
    },
    {
      "cell_type": "code",
      "source": [
        "## SUmmerize history for accuracy\n",
        "\n",
        "plt.plot(model_history.history['accuracy'])\n",
        "plt.plot(model_history.history['val_accuracy'])\n",
        "plt.title('Model Accuracy')\n",
        "plt.ylabel('Accuracy')\n",
        "plt.xlabel('Epochs')\n",
        "plt.legend(['Train','Test'],loc = 'upper left')\n",
        "plt.show()"
      ],
      "metadata": {
        "colab": {
          "base_uri": "https://localhost:8080/",
          "height": 295
        },
        "id": "A7XqZFkYjH9Q",
        "outputId": "c93cc706-d9d0-44cb-f38b-725186e9723b"
      },
      "execution_count": 27,
      "outputs": [
        {
          "output_type": "display_data",
          "data": {
            "text/plain": [
              "<Figure size 432x288 with 1 Axes>"
            ],
            "image/png": "[encoded data removed]"
          },
          "metadata": {
            "needs_background": "light"
          }
        }
      ]
    },
    {
      "cell_type": "code",
      "source": [
        "## Summerize history for Loss\n",
        "\n",
        "plt.plot(model_history.history['loss'])\n",
        "plt.plot(model_history.history['val_loss'])\n",
        "plt.title('Model Loss')\n",
        "plt.ylabel('Loss')\n",
        "plt.xlabel('Epochs')\n",
        "plt.legend(['Train','Test'], loc= 'upper left')\n",
        "plt.show()"
      ],
      "metadata": {
        "colab": {
          "base_uri": "https://localhost:8080/",
          "height": 295
        },
        "id": "PxsFr8_4kUrb",
        "outputId": "559cec1e-7a79-4b05-8e99-570b616a54b7"
      },
      "execution_count": 28,
      "outputs": [
        {
          "output_type": "display_data",
          "data": {
            "text/plain": [
              "<Figure size 432x288 with 1 Axes>"
            ],
            "image/png": "[encoded data removed]"
          },
          "metadata": {
            "needs_background": "light"
          }
        }
      ]
    },
    {
      "cell_type": "code",
      "source": [
        "## Making predictions & evaluating Models\n",
        "## Predicting test result\n",
        "\n",
        "y_pred = classifier.predict(x_test)\n",
        "y_pred = (y_pred >= 0.5)\n",
        "y_pred"
      ],
      "metadata": {
        "colab": {
          "base_uri": "https://localhost:8080/"
        },
        "id": "7VqSuzMvukSC",
        "outputId": "96b10d8f-930a-4ce1-d700-dbec052ee845"
      },
      "execution_count": 29,
      "outputs": [
        {
          "output_type": "stream",
          "name": "stdout",
          "text": [
            "63/63 [==============================] - 0s 2ms/step\n"
          ]
        },
        {
          "output_type": "execute_result",
          "data": {
            "text/plain": [
              "array([[False],\n",
              "       [False],\n",
              "       [False],\n",
              "       ...,\n",
              "       [False],\n",
              "       [False],\n",
              "       [False]])"
            ]
          },
          "metadata": {},
          "execution_count": 29
        }
      ]
    },
    {
      "cell_type": "code",
      "source": [
        "from sklearn.metrics import confusion_matrix\n",
        "cm = confusion_matrix(y_test,y_pred)\n",
        "cm"
      ],
      "metadata": {
        "colab": {
          "base_uri": "https://localhost:8080/"
        },
        "id": "jH1HAKLFE_43",
        "outputId": "d0e41c7f-91db-4af0-9fea-511aba9c3c5c"
      },
      "execution_count": 30,
      "outputs": [
        {
          "output_type": "execute_result",
          "data": {
            "text/plain": [
              "array([[1534,   61],\n",
              "       [ 218,  187]])"
            ]
          },
          "metadata": {},
          "execution_count": 30
        }
      ]
    },
    {
      "cell_type": "code",
      "source": [
        "from sklearn.metrics import accuracy_score\n",
        "accuracy = accuracy_score(y_test,y_pred)\n",
        "accuracy"
      ],
      "metadata": {
        "colab": {
          "base_uri": "https://localhost:8080/"
        },
        "id": "5UyBbvcKIhSk",
        "outputId": "9c3a9709-e0ea-4c76-feea-cc6e09fa0be9"
      },
      "execution_count": 31,
      "outputs": [
        {
          "output_type": "execute_result",
          "data": {
            "text/plain": [
              "0.8605"
            ]
          },
          "metadata": {},
          "execution_count": 31
        }
      ]
    },
    {
      "cell_type": "code",
      "source": [
        "classifier.get_weights()"
      ],
      "metadata": {
        "colab": {
          "base_uri": "https://localhost:8080/"
        },
        "id": "Rm7JaAJ0JpXo",
        "outputId": "ed9146cb-da9e-4d29-ccd2-210354efedbd"
      },
      "execution_count": 32,
      "outputs": [
        {
          "output_type": "execute_result",
          "data": {
            "text/plain": [
              "[array([[ 0.0142875 ,  0.48503014, -0.60300547, -0.05460153, -0.4694829 ,\n",
              "         -0.5782    , -0.3799403 ,  0.7069488 ,  0.70334756,  0.01351585,\n",
              "          0.21567586],\n",
              "        [ 0.23266253, -0.6562728 ,  1.3366902 ,  0.6711821 , -1.7566899 ,\n",
              "          2.5075486 ,  3.2949522 , -0.6926109 ,  1.9518385 , -1.7634311 ,\n",
              "         -1.8010267 ],\n",
              "        [ 0.01579083,  0.3518399 , -0.13314418, -0.10048882, -0.01577511,\n",
              "          0.57228047, -0.2625976 ,  0.34404206,  0.0837099 ,  0.8182205 ,\n",
              "         -0.9805079 ],\n",
              "        [-3.20301   , -0.74832344,  0.04222915,  0.74333143, -1.1719104 ,\n",
              "         -1.4902127 ,  0.7846354 , -1.7711266 , -0.37350157, -0.2113091 ,\n",
              "          1.3192424 ],\n",
              "        [-3.5477655 ,  1.6821208 , -0.13454705,  2.9809752 , -0.35787773,\n",
              "          0.09571849, -1.8147057 , -0.1321157 , -0.7449557 ,  0.08377431,\n",
              "          0.17415917],\n",
              "        [-0.0966548 ,  1.3885338 , -0.4660082 , -0.03079916, -0.6367505 ,\n",
              "         -0.3804753 , -0.4663158 , -0.00890717,  1.2272693 ,  0.07669001,\n",
              "          0.56923205],\n",
              "        [ 0.07478943,  0.6142467 ,  3.632224  ,  0.1402078 ,  0.6975793 ,\n",
              "          0.9829971 , -0.15499067,  1.0695757 ,  1.3405032 , -0.16702433,\n",
              "          0.457806  ],\n",
              "        [ 0.01012809,  1.1667932 , -0.27004907,  0.18144101,  0.10036094,\n",
              "         -0.2131586 ,  0.7037679 , -0.5855602 ,  0.5658905 , -0.39115393,\n",
              "          1.5339284 ],\n",
              "        [ 1.4996415 ,  0.77960086, -0.36930874, -0.3709345 , -0.39955935,\n",
              "         -0.3409983 ,  0.00640738, -0.22964449,  1.632959  , -1.9000858 ,\n",
              "          1.0267427 ],\n",
              "        [-0.12937747,  0.19925392,  0.893171  ,  0.40908626, -1.9016168 ,\n",
              "         -0.60916215, -0.0560488 ,  1.1142497 , -0.27260974,  0.19134958,\n",
              "         -0.33371335],\n",
              "        [-0.1104975 ,  0.90298295,  1.2673037 , -0.04447697,  1.0902472 ,\n",
              "         -0.03083091, -0.2385073 ,  0.7362889 , -0.32699364,  0.23828676,\n",
              "         -1.1146928 ]], dtype=float32),\n",
              " array([-1.1032441, -1.554821 , -1.7774768, -3.002534 ,  2.036916 ,\n",
              "        -3.1022458, -1.0383947,  1.1321102, -3.0555499,  1.48561  ,\n",
              "        -2.1006806], dtype=float32),\n",
              " array([[-0.2331349 ,  0.8711288 ,  1.410333  , -2.019983  , -0.47308132,\n",
              "         -3.1175911 , -0.05025677],\n",
              "        [ 0.12287711,  1.0165371 ,  0.66663283,  0.32736266, -0.54010665,\n",
              "          0.7856081 , -0.55509055],\n",
              "        [-0.42479327, -2.7400167 , -0.382994  , -0.320028  , -0.1678885 ,\n",
              "          1.1273433 , -0.14882113],\n",
              "        [-4.871386  ,  2.6103263 , -0.8474709 , -0.63391453, -0.45572242,\n",
              "         -1.7524705 , -0.29193848],\n",
              "        [-1.589709  , -0.8937893 ,  0.25841194,  0.8781131 ,  0.03092603,\n",
              "          0.06183243, -0.29032588],\n",
              "        [-3.4205556 ,  0.71638143, -1.1061395 , -1.8886712 , -0.10095668,\n",
              "          1.5662458 , -0.08136455],\n",
              "        [ 1.0402583 ,  0.32883942, -2.470044  , -1.2365018 , -0.22933386,\n",
              "         -0.41512606, -0.5672563 ],\n",
              "        [-0.7979817 , -0.06119462,  0.4191248 ,  0.8562408 , -0.20403925,\n",
              "          0.51817137, -0.00760728],\n",
              "        [ 0.4364191 , -2.6751926 ,  0.25840947, -1.6771976 , -0.00884543,\n",
              "          1.0422004 , -0.14612894],\n",
              "        [-2.2681115 , -0.52108765, -0.7127913 ,  0.09375528, -0.7591176 ,\n",
              "         -0.31919402, -0.19981115],\n",
              "        [-0.43405417, -1.8195144 , -0.52424306,  0.07427875, -0.4994894 ,\n",
              "          0.00611458, -0.0720894 ]], dtype=float32),\n",
              " array([-0.29086497,  0.6443553 , -2.1661196 ,  2.6868935 , -0.28651762,\n",
              "         0.9754187 , -0.41974318], dtype=float32),\n",
              " array([[ 0.44806963, -0.09294535, -0.62296075, -1.442803  , -0.98406357,\n",
              "          0.02029477],\n",
              "        [ 0.941056  ,  0.10730033, -0.5689872 ,  0.45523056, -1.7686517 ,\n",
              "         -0.48613137],\n",
              "        [-1.1916718 , -0.4088666 , -0.37278232, -0.3402461 ,  0.4776632 ,\n",
              "         -0.07866856],\n",
              "        [-1.4743321 , -1.2768    , -0.3787524 , -1.4820948 ,  0.7700973 ,\n",
              "          0.06611292],\n",
              "        [ 0.43943802,  0.49361634,  0.13157046, -0.45029077, -0.0896858 ,\n",
              "         -0.57357556],\n",
              "        [-0.88728297, -1.1185875 ,  0.01914848, -0.22409274,  0.47963208,\n",
              "         -0.03414646],\n",
              "        [ 0.642324  , -0.5103964 ,  0.42274663, -0.524331  ,  0.00557985,\n",
              "          0.24379659]], dtype=float32),\n",
              " array([ 0.81869596, -0.7628265 , -0.82265127, -1.0256218 ,  0.19576286,\n",
              "        -1.4957734 ], dtype=float32),\n",
              " array([[ 0.46332273],\n",
              "        [ 0.04118698],\n",
              "        [ 0.08329039],\n",
              "        [ 0.20219153],\n",
              "        [-0.44813052],\n",
              "        [-0.02638286]], dtype=float32),\n",
              " array([-0.57910943], dtype=float32)]"
            ]
          },
          "metadata": {},
          "execution_count": 32
        }
      ]
    },
    {
      "cell_type": "code",
      "source": [
        "y_test"
      ],
      "metadata": {
        "colab": {
          "base_uri": "https://localhost:8080/"
        },
        "id": "HGlxOnZaX5Tg",
        "outputId": "8e19886e-1a14-4c1a-87bb-aecac5943f59"
      },
      "execution_count": 33,
      "outputs": [
        {
          "output_type": "execute_result",
          "data": {
            "text/plain": [
              "9394    0\n",
              "898     1\n",
              "2398    0\n",
              "5906    0\n",
              "2343    0\n",
              "       ..\n",
              "1037    0\n",
              "2899    0\n",
              "9549    0\n",
              "2740    0\n",
              "6690    0\n",
              "Name: Exited, Length: 2000, dtype: int64"
            ]
          },
          "metadata": {},
          "execution_count": 33
        }
      ]
    },
    {
      "cell_type": "code",
      "source": [],
      "metadata": {
        "id": "YshPvsH0cLqa"
      },
      "execution_count": 33,
      "outputs": []
    }
  ]
}